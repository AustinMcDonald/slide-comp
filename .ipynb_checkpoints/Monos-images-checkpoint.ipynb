{
 "cells": [
  {
   "cell_type": "code",
   "execution_count": 1,
   "metadata": {},
   "outputs": [],
   "source": [
    "import numpy as np\n",
    "import glob\n",
    "import os\n",
    "\n",
    "# for plotting\n",
    "import matplotlib.pyplot as plt\n",
    "from matplotlib import cm\n",
    "from mpl_toolkits.mplot3d import Axes3D\n",
    "#from matplotlib.colors import LogNorm\n",
    "%matplotlib inline\n",
    "\n",
    "from PIL import Image \n",
    "# Nedded for background fit\n",
    "import numpy.polynomial.polynomial as poly\n",
    "from scipy.optimize import curve_fit\n",
    "from scipy.signal import savgol_filter\n",
    "from scipy import optimize\n",
    "\n",
    "# needed for spotfinder\n",
    "import scipy.ndimage as ndimage\n",
    "import scipy.ndimage.filters as filters\n",
    "\n",
    "# custom functions\n",
    "from DefDefDefinitions import PE_Vals\n",
    "from DefDefDefinitions import Image_Converter\n",
    "from DefDefDefinitions import FrequencyFilterFunction\n",
    "from DefDefDefinitions import FFT_Filter\n",
    "from DefDefDefinitions import Unique_Circle\n",
    "from DefDefDefinitions import Fit_2D_Gaussian\n",
    "from DefDefDefinitions import gaussian_2d\n",
    "from DefDefDefinitions import Spot_finder\n",
    "from DefDefDefinitions import Spot_Area\n",
    "from DefDefDefinitions import Step_fit\n",
    "from DefDefDefinitions import Line_fit\n",
    "from DefDefDefinitions import moving_average\n",
    "from DefDefDefinitions import Trajectory"
   ]
  },
  {
   "cell_type": "code",
   "execution_count": null,
   "metadata": {},
   "outputs": [],
   "source": []
  },
  {
   "cell_type": "code",
   "execution_count": 5,
   "metadata": {},
   "outputs": [
    {
     "name": "stdout",
     "output_type": "stream",
     "text": [
      "/Users/austinmcdonald/Desktop/slide-calabration/data/Exp/Copoly w Ba/+20/1\n"
     ]
    }
   ],
   "source": [
    "CWD = os.getcwd()\n",
    "CWD = CWD+'/data/'\n",
    "DIR = 'Exp/Copoly w Ba/+20/1'\n",
    "Dir = CWD+DIR\n",
    "print(Dir)"
   ]
  },
  {
   "cell_type": "code",
   "execution_count": 3,
   "metadata": {},
   "outputs": [],
   "source": [
    "end = 200\n",
    "DataFiles = glob.glob(Dir+'/*')\n",
    "DataFiles.sort()\n",
    "DataFiles = DataFiles[0:end]"
   ]
  },
  {
   "cell_type": "code",
   "execution_count": 4,
   "metadata": {},
   "outputs": [
    {
     "data": {
      "text/plain": [
       "[]"
      ]
     },
     "execution_count": 4,
     "metadata": {},
     "output_type": "execute_result"
    }
   ],
   "source": [
    "DataFiles"
   ]
  },
  {
   "cell_type": "code",
   "execution_count": null,
   "metadata": {},
   "outputs": [],
   "source": []
  },
  {
   "cell_type": "code",
   "execution_count": 4,
   "metadata": {
    "scrolled": false
   },
   "outputs": [
    {
     "ename": "IndexError",
     "evalue": "list index out of range",
     "output_type": "error",
     "traceback": [
      "\u001b[0;31m---------------------------------------------------------------------------\u001b[0m",
      "\u001b[0;31mIndexError\u001b[0m                                Traceback (most recent call last)",
      "\u001b[0;32m<ipython-input-4-1811cb5a634b>\u001b[0m in \u001b[0;36m<module>\u001b[0;34m\u001b[0m\n\u001b[1;32m      4\u001b[0m \u001b[0mXindex\u001b[0m \u001b[0;34m=\u001b[0m \u001b[0mint\u001b[0m\u001b[0;34m(\u001b[0m\u001b[0;36m256\u001b[0m\u001b[0;34m)\u001b[0m\u001b[0;34m\u001b[0m\u001b[0;34m\u001b[0m\u001b[0m\n\u001b[1;32m      5\u001b[0m \u001b[0;34m\u001b[0m\u001b[0m\n\u001b[0;32m----> 6\u001b[0;31m \u001b[0meOffset\u001b[0m\u001b[0;34m,\u001b[0m \u001b[0meCoeff\u001b[0m \u001b[0;34m=\u001b[0m \u001b[0mPE_Vals\u001b[0m\u001b[0;34m(\u001b[0m\u001b[0mDataFiles\u001b[0m\u001b[0;34m[\u001b[0m\u001b[0;36m0\u001b[0m\u001b[0;34m]\u001b[0m\u001b[0;34m)\u001b[0m\u001b[0;34m\u001b[0m\u001b[0;34m\u001b[0m\u001b[0m\n\u001b[0m\u001b[1;32m      7\u001b[0m \u001b[0mTest\u001b[0m \u001b[0;34m=\u001b[0m \u001b[0mImage_Converter\u001b[0m\u001b[0;34m(\u001b[0m\u001b[0mDataFiles\u001b[0m\u001b[0;34m[\u001b[0m\u001b[0;36m0\u001b[0m\u001b[0;34m]\u001b[0m\u001b[0;34m,\u001b[0m \u001b[0meOffset\u001b[0m\u001b[0;34m,\u001b[0m \u001b[0meCoeff\u001b[0m\u001b[0;34m,\u001b[0m \u001b[0mXindex\u001b[0m\u001b[0;34m,\u001b[0m \u001b[0mYindex\u001b[0m\u001b[0;34m,\u001b[0m \u001b[0mRow\u001b[0m\u001b[0;34m,\u001b[0m \u001b[0mCol\u001b[0m\u001b[0;34m)\u001b[0m\u001b[0;34m\u001b[0m\u001b[0;34m\u001b[0m\u001b[0m\n\u001b[1;32m      8\u001b[0m \u001b[0mShape\u001b[0m \u001b[0;34m=\u001b[0m \u001b[0mTest\u001b[0m\u001b[0;34m.\u001b[0m\u001b[0mshape\u001b[0m\u001b[0;34m[\u001b[0m\u001b[0;36m0\u001b[0m\u001b[0;34m]\u001b[0m\u001b[0;34m\u001b[0m\u001b[0;34m\u001b[0m\u001b[0m\n",
      "\u001b[0;31mIndexError\u001b[0m: list index out of range"
     ]
    }
   ],
   "source": [
    "Row    = int(250)\n",
    "Col    = Row\n",
    "Yindex = int(256)\n",
    "Xindex = int(256)\n",
    "\n",
    "eOffset, eCoeff = PE_Vals(DataFiles[0])\n",
    "Test = Image_Converter(DataFiles[0], eOffset, eCoeff, Xindex, Yindex, Row, Col)\n",
    "Shape = Test.shape[0]\n",
    "\n",
    "plt.figure(figsize=(9,9))\n",
    "\n",
    "r = 130\n",
    "Xoff = 190\n",
    "Yoff = 250\n",
    "\n",
    "X_circle, Y_circle = Unique_Circle(r, Xoff, Yoff)\n",
    "keep = np.where(Y_circle<Shape)\n",
    "Y_circle = Y_circle[keep]\n",
    "X_circle = X_circle[keep]\n",
    "keep = np.where(X_circle<Shape)\n",
    "Y_circle = Y_circle[keep]\n",
    "X_circle = X_circle[keep]\n",
    "\n",
    "plt.scatter(X_circle,Y_circle,color='r',lw=2,alpha=0.4,s=1)\n",
    "\n",
    "plt.imshow(Test)\n",
    "plt.xlim(0,500)\n",
    "plt.ylim(0,500)\n",
    "plt.show()"
   ]
  },
  {
   "cell_type": "code",
   "execution_count": null,
   "metadata": {},
   "outputs": [],
   "source": []
  },
  {
   "cell_type": "code",
   "execution_count": null,
   "metadata": {},
   "outputs": [],
   "source": []
  },
  {
   "cell_type": "code",
   "execution_count": null,
   "metadata": {},
   "outputs": [],
   "source": []
  },
  {
   "cell_type": "code",
   "execution_count": null,
   "metadata": {},
   "outputs": [],
   "source": []
  }
 ],
 "metadata": {
  "kernelspec": {
   "display_name": "Python 3",
   "language": "python",
   "name": "python3"
  },
  "language_info": {
   "codemirror_mode": {
    "name": "ipython",
    "version": 3
   },
   "file_extension": ".py",
   "mimetype": "text/x-python",
   "name": "python",
   "nbconvert_exporter": "python",
   "pygments_lexer": "ipython3",
   "version": "3.7.3"
  }
 },
 "nbformat": 4,
 "nbformat_minor": 2
}
